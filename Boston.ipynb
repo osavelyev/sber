{
  "nbformat": 4,
  "nbformat_minor": 0,
  "metadata": {
    "kernelspec": {
      "display_name": "Python 3",
      "language": "python",
      "name": "python3"
    },
    "language_info": {
      "codemirror_mode": {
        "name": "ipython",
        "version": 3
      },
      "file_extension": ".py",
      "mimetype": "text/x-python",
      "name": "python",
      "nbconvert_exporter": "python",
      "pygments_lexer": "ipython3",
      "version": "3.6.3"
    },
    "colab": {
      "name": "Boston.ipynb",
      "provenance": [],
      "include_colab_link": true
    }
  },
  "cells": [
    {
      "cell_type": "markdown",
      "metadata": {
        "id": "view-in-github",
        "colab_type": "text"
      },
      "source": [
        "<a href=\"https://colab.research.google.com/github/osavelyev/sber/blob/main/Boston.ipynb\" target=\"_parent\"><img src=\"https://colab.research.google.com/assets/colab-badge.svg\" alt=\"Open In Colab\"/></a>"
      ]
    },
    {
      "cell_type": "markdown",
      "metadata": {
        "id": "fraoeX4IJzX2"
      },
      "source": [
        "### Предсказание средней (медианной) стоимости домов в районах Бостона\n",
        "\n",
        "Объект: район города Бостона\n",
        "\n",
        "Целевая переменная: средняя (медианная) стоимость домов\n",
        "\n",
        "Задача: предсказание целевой переменной по признакам объекта\n",
        "\n",
        "Тип задачи: регрессия\n",
        "    \n",
        "Мы построим линейную модель на этих данных, оценим качество предсказания и проанализируем полученные веса признаков.\n",
        "\n",
        "__Ваша задача:__ Наводите курсором по очереди на каждую ячейку с кодом и нажимайте кнопку Run слева от ячейки (круглая кнопка со значком ᐈ). В некоторых ячейках нужно вставить код: в этом случае Вы сначала вставляете фрагмент кода, затем нажимаете кнопку Run. __Очень важно__ нажать Run для __всех__ ячеек в порядке сверху вниз.\n",
        "\n",
        "Меткой __Задание__ помечены фрагменты, где Вам нужно вставить свой код. Меткой __Тест__ помечены фрагменты, про которые Вам нужно выбрать ответ в тесте.\n",
        "\n",
        "Некоторые ячейки печатают какой-то результат, а некоторые не печатают."
      ]
    },
    {
      "cell_type": "markdown",
      "metadata": {
        "id": "eiUHespnJzX7"
      },
      "source": [
        "Загружаем данные:"
      ]
    },
    {
      "cell_type": "code",
      "metadata": {
        "collapsed": true,
        "id": "9kq6SQmaJzX8"
      },
      "source": [
        "from sklearn.datasets import load_boston"
      ],
      "execution_count": 1,
      "outputs": []
    },
    {
      "cell_type": "code",
      "metadata": {
        "collapsed": true,
        "id": "gIC-xItmJzX9"
      },
      "source": [
        "boston_data = load_boston()"
      ],
      "execution_count": 2,
      "outputs": []
    },
    {
      "cell_type": "code",
      "metadata": {
        "collapsed": true,
        "id": "NRzGDD4PJzX-"
      },
      "source": [
        "X = boston_data[\"data\"]\n",
        "y = boston_data[\"target\"]"
      ],
      "execution_count": 3,
      "outputs": []
    },
    {
      "cell_type": "markdown",
      "metadata": {
        "id": "_2P3MFbDJzX-"
      },
      "source": [
        "X - таблица объектов и их признаков, y - целевые переменные.\n",
        "\n",
        "Посмотрим, сколько строк и сколько столбцов в таблице X (сначала выводится число строк, затем число столбцов):"
      ]
    },
    {
      "cell_type": "code",
      "metadata": {
        "collapsed": true,
        "colab": {
          "base_uri": "https://localhost:8080/"
        },
        "id": "haftwsceJzX_",
        "outputId": "cf754518-dd93-4c71-d390-7b55a577d469"
      },
      "source": [
        "X.shape"
      ],
      "execution_count": 4,
      "outputs": [
        {
          "output_type": "execute_result",
          "data": {
            "text/plain": [
              "(506, 13)"
            ]
          },
          "metadata": {
            "tags": []
          },
          "execution_count": 4
        }
      ]
    },
    {
      "cell_type": "markdown",
      "metadata": {
        "id": "jIkerRviJzX_"
      },
      "source": [
        "Сколько элементов в y:"
      ]
    },
    {
      "cell_type": "code",
      "metadata": {
        "collapsed": true,
        "colab": {
          "base_uri": "https://localhost:8080/"
        },
        "id": "5Yy2sO-LJzYA",
        "outputId": "76e591f8-a3a6-4801-9e59-b1827cca9332"
      },
      "source": [
        "y.shape"
      ],
      "execution_count": 5,
      "outputs": [
        {
          "output_type": "execute_result",
          "data": {
            "text/plain": [
              "(506,)"
            ]
          },
          "metadata": {
            "tags": []
          },
          "execution_count": 5
        }
      ]
    },
    {
      "cell_type": "markdown",
      "metadata": {
        "id": "vbHk2-aLJzYB"
      },
      "source": [
        "Разделим данные на обучающую и тестовую выборки:"
      ]
    },
    {
      "cell_type": "code",
      "metadata": {
        "collapsed": true,
        "id": "I0KlEEVdJzYB"
      },
      "source": [
        "from sklearn.model_selection import train_test_split"
      ],
      "execution_count": 6,
      "outputs": []
    },
    {
      "cell_type": "code",
      "metadata": {
        "collapsed": true,
        "id": "OHEYAamoJzYC"
      },
      "source": [
        "X_train, X_test, y_train, y_test = train_test_split(X, y)"
      ],
      "execution_count": 7,
      "outputs": []
    },
    {
      "cell_type": "markdown",
      "metadata": {
        "id": "mHqLo-6oJzYC"
      },
      "source": [
        "__Задание+тест.__ Сколько объектов оказалось в обучающей выборке, а сколько в тестовой? Напишите код в каждую из двух ячеек ниже, нажмите Run для каждой ячейки и ответьте на вопрос теста.\n",
        "\n",
        "В первую ячейку впишите \n",
        "\n",
        "X_train.shape\n",
        "\n",
        "Во вторую ячейку впишите \n",
        "\n",
        "X_test.shape"
      ]
    },
    {
      "cell_type": "code",
      "metadata": {
        "collapsed": true,
        "colab": {
          "base_uri": "https://localhost:8080/"
        },
        "id": "UWSAAdKOJzYD",
        "outputId": "ed8c2966-9762-4fac-dd5c-5a7c7598afa4"
      },
      "source": [
        "X_train.shape"
      ],
      "execution_count": 8,
      "outputs": [
        {
          "output_type": "execute_result",
          "data": {
            "text/plain": [
              "(379, 13)"
            ]
          },
          "metadata": {
            "tags": []
          },
          "execution_count": 8
        }
      ]
    },
    {
      "cell_type": "code",
      "metadata": {
        "collapsed": true,
        "colab": {
          "base_uri": "https://localhost:8080/"
        },
        "id": "eJpRRYQ3JzYD",
        "outputId": "aa3c401a-a490-4568-bb51-f71549dd65bc"
      },
      "source": [
        "X_test.shape\n"
      ],
      "execution_count": 9,
      "outputs": [
        {
          "output_type": "execute_result",
          "data": {
            "text/plain": [
              "(127, 13)"
            ]
          },
          "metadata": {
            "tags": []
          },
          "execution_count": 9
        }
      ]
    },
    {
      "cell_type": "markdown",
      "metadata": {
        "id": "Yon9j4fAJzYD"
      },
      "source": [
        "Перед обучением модели нормируем данные (чтобы все признаки имели одинаковый масштаб):"
      ]
    },
    {
      "cell_type": "code",
      "metadata": {
        "collapsed": true,
        "id": "2xnRDpRAJzYE"
      },
      "source": [
        "from sklearn.preprocessing import MinMaxScaler"
      ],
      "execution_count": 10,
      "outputs": []
    },
    {
      "cell_type": "code",
      "metadata": {
        "collapsed": true,
        "id": "VOVrFFT3JzYF"
      },
      "source": [
        "scaler = MinMaxScaler()\n",
        "X_train = scaler.fit_transform(X_train)\n",
        "X_test = scaler.transform(X_test)"
      ],
      "execution_count": 11,
      "outputs": []
    },
    {
      "cell_type": "code",
      "metadata": {
        "collapsed": true,
        "id": "LkQk4PJmJzYF"
      },
      "source": [
        "from sklearn.linear_model import LinearRegression"
      ],
      "execution_count": 12,
      "outputs": []
    },
    {
      "cell_type": "markdown",
      "metadata": {
        "id": "M2Yfqt88JzYG"
      },
      "source": [
        "__Задание.__ Обучите модель линейной регрессии. Для обучения нам понадобятся признаки и значения целевых переменных на _обучающей_ выборке: X_train и y_train. Напишите команду \n",
        "\n",
        "model.fit(X_train, y_train)\n",
        "\n",
        "в последней строчке ячейки ниже:"
      ]
    },
    {
      "cell_type": "code",
      "metadata": {
        "collapsed": true,
        "colab": {
          "base_uri": "https://localhost:8080/"
        },
        "id": "8oYcZZNOJzYG",
        "outputId": "7fa793c7-3c34-4e26-fe45-202936d24ff5"
      },
      "source": [
        "model = LinearRegression()\n",
        "model.fit(X_train, y_train)"
      ],
      "execution_count": 13,
      "outputs": [
        {
          "output_type": "execute_result",
          "data": {
            "text/plain": [
              "LinearRegression(copy_X=True, fit_intercept=True, n_jobs=None, normalize=False)"
            ]
          },
          "metadata": {
            "tags": []
          },
          "execution_count": 13
        }
      ]
    },
    {
      "cell_type": "markdown",
      "metadata": {
        "id": "Q0Tt7nSOJzYH"
      },
      "source": [
        "Выполним предсказания с помощью обученной модели для объектов тестовой выборки (понадобятся только _признаки_ для тестовой выборки):"
      ]
    },
    {
      "cell_type": "code",
      "metadata": {
        "collapsed": true,
        "id": "uulxKCELJzYH"
      },
      "source": [
        "predictions_test = model.predict(X_test)"
      ],
      "execution_count": 15,
      "outputs": []
    },
    {
      "cell_type": "markdown",
      "metadata": {
        "id": "Q2FQJy7wJzYI"
      },
      "source": [
        "Оценим среднюю ошибку предсказаний (понадобятся предсказания и значения целевых переменных для _тестовой_ выборки):"
      ]
    },
    {
      "cell_type": "code",
      "metadata": {
        "collapsed": true,
        "id": "4U8f3NCMJzYI"
      },
      "source": [
        "from sklearn.metrics import mean_absolute_error"
      ],
      "execution_count": 16,
      "outputs": []
    },
    {
      "cell_type": "code",
      "metadata": {
        "collapsed": true,
        "colab": {
          "base_uri": "https://localhost:8080/"
        },
        "id": "7haO2dPaJzYI",
        "outputId": "55143dda-1510-421e-d5f9-09f74139d22b"
      },
      "source": [
        "mean_absolute_error(y_test, predictions_test)"
      ],
      "execution_count": 17,
      "outputs": [
        {
          "output_type": "execute_result",
          "data": {
            "text/plain": [
              "3.232839446862625"
            ]
          },
          "metadata": {
            "tags": []
          },
          "execution_count": 17
        }
      ]
    },
    {
      "cell_type": "markdown",
      "metadata": {
        "id": "rxi35-gaJzYJ"
      },
      "source": [
        "__Тест:__ Ответьте в тесте, в каких границах оказалось полученное значение ошибки.\n",
        "\n",
        "Величина, которую мы предсказываем, измеряется в десятках, так что полученное значение средней ошибки - вполне хороший результат!"
      ]
    },
    {
      "cell_type": "markdown",
      "metadata": {
        "id": "Nq7WlNbXJzYJ"
      },
      "source": [
        "Выведем получившиеся веса для всех признаков, отсортировав признаки в порядке возрастания веса:"
      ]
    },
    {
      "cell_type": "code",
      "metadata": {
        "collapsed": true,
        "id": "JSzanzOJJzYK"
      },
      "source": [
        "import pandas"
      ],
      "execution_count": 18,
      "outputs": []
    },
    {
      "cell_type": "code",
      "metadata": {
        "collapsed": true,
        "colab": {
          "base_uri": "https://localhost:8080/",
          "height": 452
        },
        "id": "dFVa9bmAJzYK",
        "outputId": "75df7d3d-cf15-4a43-eecc-37821480abf0"
      },
      "source": [
        "weights = pandas.DataFrame({\"веса\":model.coef_,\\\n",
        "                        \"признаки\": boston_data[\"feature_names\"]})\n",
        "weights.sort_values(\"веса\")"
      ],
      "execution_count": 19,
      "outputs": [
        {
          "output_type": "execute_result",
          "data": {
            "text/html": [
              "<div>\n",
              "<style scoped>\n",
              "    .dataframe tbody tr th:only-of-type {\n",
              "        vertical-align: middle;\n",
              "    }\n",
              "\n",
              "    .dataframe tbody tr th {\n",
              "        vertical-align: top;\n",
              "    }\n",
              "\n",
              "    .dataframe thead th {\n",
              "        text-align: right;\n",
              "    }\n",
              "</style>\n",
              "<table border=\"1\" class=\"dataframe\">\n",
              "  <thead>\n",
              "    <tr style=\"text-align: right;\">\n",
              "      <th></th>\n",
              "      <th>веса</th>\n",
              "      <th>признаки</th>\n",
              "    </tr>\n",
              "  </thead>\n",
              "  <tbody>\n",
              "    <tr>\n",
              "      <th>12</th>\n",
              "      <td>-19.212289</td>\n",
              "      <td>LSTAT</td>\n",
              "    </tr>\n",
              "    <tr>\n",
              "      <th>7</th>\n",
              "      <td>-17.289107</td>\n",
              "      <td>DIS</td>\n",
              "    </tr>\n",
              "    <tr>\n",
              "      <th>0</th>\n",
              "      <td>-9.685115</td>\n",
              "      <td>CRIM</td>\n",
              "    </tr>\n",
              "    <tr>\n",
              "      <th>4</th>\n",
              "      <td>-9.436078</td>\n",
              "      <td>NOX</td>\n",
              "    </tr>\n",
              "    <tr>\n",
              "      <th>10</th>\n",
              "      <td>-8.363644</td>\n",
              "      <td>PTRATIO</td>\n",
              "    </tr>\n",
              "    <tr>\n",
              "      <th>9</th>\n",
              "      <td>-7.306093</td>\n",
              "      <td>TAX</td>\n",
              "    </tr>\n",
              "    <tr>\n",
              "      <th>6</th>\n",
              "      <td>-0.290290</td>\n",
              "      <td>AGE</td>\n",
              "    </tr>\n",
              "    <tr>\n",
              "      <th>2</th>\n",
              "      <td>2.381827</td>\n",
              "      <td>INDUS</td>\n",
              "    </tr>\n",
              "    <tr>\n",
              "      <th>11</th>\n",
              "      <td>2.589561</td>\n",
              "      <td>B</td>\n",
              "    </tr>\n",
              "    <tr>\n",
              "      <th>3</th>\n",
              "      <td>3.081927</td>\n",
              "      <td>CHAS</td>\n",
              "    </tr>\n",
              "    <tr>\n",
              "      <th>1</th>\n",
              "      <td>5.045529</td>\n",
              "      <td>ZN</td>\n",
              "    </tr>\n",
              "    <tr>\n",
              "      <th>8</th>\n",
              "      <td>6.890233</td>\n",
              "      <td>RAD</td>\n",
              "    </tr>\n",
              "    <tr>\n",
              "      <th>5</th>\n",
              "      <td>21.260172</td>\n",
              "      <td>RM</td>\n",
              "    </tr>\n",
              "  </tbody>\n",
              "</table>\n",
              "</div>"
            ],
            "text/plain": [
              "         веса признаки\n",
              "12 -19.212289    LSTAT\n",
              "7  -17.289107      DIS\n",
              "0   -9.685115     CRIM\n",
              "4   -9.436078      NOX\n",
              "10  -8.363644  PTRATIO\n",
              "9   -7.306093      TAX\n",
              "6   -0.290290      AGE\n",
              "2    2.381827    INDUS\n",
              "11   2.589561        B\n",
              "3    3.081927     CHAS\n",
              "1    5.045529       ZN\n",
              "8    6.890233      RAD\n",
              "5   21.260172       RM"
            ]
          },
          "metadata": {
            "tags": []
          },
          "execution_count": 19
        }
      ]
    },
    {
      "cell_type": "markdown",
      "metadata": {
        "id": "cwjKyR83JzYK"
      },
      "source": [
        "Описание признаков (напоминаем, что один объект - это район города Бостона):\n",
        "\n",
        "- CRIM: Уровень преступности на душу населения\n",
        "- ZN: доля земли под жилую застройку, зонированной на участки площадью более 25 000 кв. Футов.\n",
        "- INDUS: доля акров, не относящихся к розничной торговле\n",
        "- CHAS: 1, если участок ограничивает реку; 0 в противном случае\n",
        "- NOX: Концентрация оксидов азота (частей на 10 миллионов)\n",
        "- RM: Среднее количество комнат в доме\n",
        "- AGE: доля домов, занимаемых владельцами, построенных до 1940 г.\n",
        "- DIS: взвешенные расстояния до пяти бостонских центров занятости\n",
        "- LSTAT: процент низкообеспеченного населения  в районе\n",
        "- RAD: Индекс доступности радиальных автомобильных дорог \n",
        "- TAX: Ставка налога на имущество в размере полной стоимости за 10 000 долларов США.\n",
        "- PTRATIO Соотношение учеников и учителей\n",
        "- B: 1000 (Bk - 0,63) ^ 2, где Bk - доля чернокожих\n",
        "- MEDV: Средняя стоимость частных домов в тысячах долларов\n",
        "\n",
        "В напечатанной таблице отображается, какой вклад в предсказанную стоимость носит каждая единица каждого признака. Например, для признака RM отображается, какую стоимость добавляет каждая комната в доме. Проанализируйте полученные веса: логично ли определились знаки признаков (увеличивает или уменьшает предсказание каждый признак)?\n",
        "\n",
        "__Тест:__ Найдите в таблице с весами признак, соответствующий проценту низкообеспеченного населения в районе. Если значение этого процента велико, будет ли предсказываться высокая средняя стоимость домов или низкая? Логичен ли такой результат?"
      ]
    }
  ]
}